{
 "cells": [
  {
   "cell_type": "markdown",
   "metadata": {},
   "source": [
    "# <div style=\"text-align:center;background-color:#f1f4f7;\"><hr>SENSOCEAN - DATA ANALYZER<hr></div>\n"
   ]
  },
  {
   "cell_type": "code",
   "execution_count": 1,
   "metadata": {},
   "outputs": [
    {
     "name": "stdout",
     "output_type": "stream",
     "text": [
      "Requirement already satisfied: numpy in c:\\users\\kamel\\appdata\\local\\packages\\pythonsoftwarefoundation.python.3.10_qbz5n2kfra8p0\\localcache\\local-packages\\python310\\site-packages (1.26.0)"
     ]
    },
    {
     "name": "stderr",
     "output_type": "stream",
     "text": [
      "\n",
      "[notice] A new release of pip is available: 23.0.1 -> 23.2.1\n",
      "[notice] To update, run: C:\\Users\\kamel\\AppData\\Local\\Microsoft\\WindowsApps\\PythonSoftwareFoundation.Python.3.10_qbz5n2kfra8p0\\python.exe -m pip install --upgrade pip\n"
     ]
    },
    {
     "name": "stdout",
     "output_type": "stream",
     "text": [
      "\n",
      "Requirement already satisfied: pandas in c:\\users\\kamel\\appdata\\local\\packages\\pythonsoftwarefoundation.python.3.10_qbz5n2kfra8p0\\localcache\\local-packages\\python310\\site-packages (2.1.0)\n",
      "Requirement already satisfied: matplotlib in c:\\users\\kamel\\appdata\\local\\packages\\pythonsoftwarefoundation.python.3.10_qbz5n2kfra8p0\\localcache\\local-packages\\python310\\site-packages (3.8.0)\n",
      "Requirement already satisfied: folium in c:\\users\\kamel\\appdata\\local\\packages\\pythonsoftwarefoundation.python.3.10_qbz5n2kfra8p0\\localcache\\local-packages\\python310\\site-packages (0.14.0)\n",
      "Requirement already satisfied: datetime in c:\\users\\kamel\\appdata\\local\\packages\\pythonsoftwarefoundation.python.3.10_qbz5n2kfra8p0\\localcache\\local-packages\\python310\\site-packages (5.2)\n",
      "Requirement already satisfied: tzdata>=2022.1 in c:\\users\\kamel\\appdata\\local\\packages\\pythonsoftwarefoundation.python.3.10_qbz5n2kfra8p0\\localcache\\local-packages\\python310\\site-packages (from pandas) (2023.3)\n",
      "Requirement already satisfied: python-dateutil>=2.8.2 in c:\\users\\kamel\\appdata\\local\\packages\\pythonsoftwarefoundation.python.3.10_qbz5n2kfra8p0\\localcache\\local-packages\\python310\\site-packages (from pandas) (2.8.2)\n",
      "Requirement already satisfied: pytz>=2020.1 in c:\\users\\kamel\\appdata\\local\\packages\\pythonsoftwarefoundation.python.3.10_qbz5n2kfra8p0\\localcache\\local-packages\\python310\\site-packages (from pandas) (2023.3.post1)\n",
      "Requirement already satisfied: fonttools>=4.22.0 in c:\\users\\kamel\\appdata\\local\\packages\\pythonsoftwarefoundation.python.3.10_qbz5n2kfra8p0\\localcache\\local-packages\\python310\\site-packages (from matplotlib) (4.42.1)\n",
      "Requirement already satisfied: cycler>=0.10 in c:\\users\\kamel\\appdata\\local\\packages\\pythonsoftwarefoundation.python.3.10_qbz5n2kfra8p0\\localcache\\local-packages\\python310\\site-packages (from matplotlib) (0.11.0)\n",
      "Requirement already satisfied: pyparsing>=2.3.1 in c:\\users\\kamel\\appdata\\local\\packages\\pythonsoftwarefoundation.python.3.10_qbz5n2kfra8p0\\localcache\\local-packages\\python310\\site-packages (from matplotlib) (3.1.1)\n",
      "Requirement already satisfied: packaging>=20.0 in c:\\users\\kamel\\appdata\\local\\packages\\pythonsoftwarefoundation.python.3.10_qbz5n2kfra8p0\\localcache\\local-packages\\python310\\site-packages (from matplotlib) (23.1)\n",
      "Requirement already satisfied: contourpy>=1.0.1 in c:\\users\\kamel\\appdata\\local\\packages\\pythonsoftwarefoundation.python.3.10_qbz5n2kfra8p0\\localcache\\local-packages\\python310\\site-packages (from matplotlib) (1.1.1)\n",
      "Requirement already satisfied: pillow>=6.2.0 in c:\\users\\kamel\\appdata\\local\\packages\\pythonsoftwarefoundation.python.3.10_qbz5n2kfra8p0\\localcache\\local-packages\\python310\\site-packages (from matplotlib) (10.0.1)\n",
      "Requirement already satisfied: kiwisolver>=1.0.1 in c:\\users\\kamel\\appdata\\local\\packages\\pythonsoftwarefoundation.python.3.10_qbz5n2kfra8p0\\localcache\\local-packages\\python310\\site-packages (from matplotlib) (1.4.5)\n",
      "Requirement already satisfied: jinja2>=2.9 in c:\\users\\kamel\\appdata\\local\\packages\\pythonsoftwarefoundation.python.3.10_qbz5n2kfra8p0\\localcache\\local-packages\\python310\\site-packages (from folium) (3.1.2)\n",
      "Requirement already satisfied: branca>=0.6.0 in c:\\users\\kamel\\appdata\\local\\packages\\pythonsoftwarefoundation.python.3.10_qbz5n2kfra8p0\\localcache\\local-packages\\python310\\site-packages (from folium) (0.6.0)\n",
      "Requirement already satisfied: requests in c:\\users\\kamel\\appdata\\local\\packages\\pythonsoftwarefoundation.python.3.10_qbz5n2kfra8p0\\localcache\\local-packages\\python310\\site-packages (from folium) (2.28.1)\n",
      "Requirement already satisfied: zope.interface in c:\\users\\kamel\\appdata\\local\\packages\\pythonsoftwarefoundation.python.3.10_qbz5n2kfra8p0\\localcache\\local-packages\\python310\\site-packages (from datetime) (6.0)\n",
      "Requirement already satisfied: MarkupSafe>=2.0 in c:\\users\\kamel\\appdata\\local\\packages\\pythonsoftwarefoundation.python.3.10_qbz5n2kfra8p0\\localcache\\local-packages\\python310\\site-packages (from jinja2>=2.9->folium) (2.1.3)\n",
      "Requirement already satisfied: six>=1.5 in c:\\users\\kamel\\appdata\\local\\packages\\pythonsoftwarefoundation.python.3.10_qbz5n2kfra8p0\\localcache\\local-packages\\python310\\site-packages (from python-dateutil>=2.8.2->pandas) (1.16.0)\n",
      "Requirement already satisfied: certifi>=2017.4.17 in c:\\users\\kamel\\appdata\\local\\packages\\pythonsoftwarefoundation.python.3.10_qbz5n2kfra8p0\\localcache\\local-packages\\python310\\site-packages (from requests->folium) (2022.6.15)\n",
      "Requirement already satisfied: urllib3<1.27,>=1.21.1 in c:\\users\\kamel\\appdata\\local\\packages\\pythonsoftwarefoundation.python.3.10_qbz5n2kfra8p0\\localcache\\local-packages\\python310\\site-packages (from requests->folium) (1.26.12)\n",
      "Requirement already satisfied: idna<4,>=2.5 in c:\\users\\kamel\\appdata\\local\\packages\\pythonsoftwarefoundation.python.3.10_qbz5n2kfra8p0\\localcache\\local-packages\\python310\\site-packages (from requests->folium) (3.3)\n",
      "Requirement already satisfied: charset-normalizer<3,>=2 in c:\\users\\kamel\\appdata\\local\\packages\\pythonsoftwarefoundation.python.3.10_qbz5n2kfra8p0\\localcache\\local-packages\\python310\\site-packages (from requests->folium) (2.1.1)\n",
      "Requirement already satisfied: setuptools in c:\\program files\\windowsapps\\pythonsoftwarefoundation.python.3.10_3.10.3056.0_x64__qbz5n2kfra8p0\\lib\\site-packages (from zope.interface->datetime) (65.5.0)\n"
     ]
    }
   ],
   "source": [
    "import sys\n",
    "sys.path\n",
    "\n",
    "import sys\n",
    "!{sys.executable} -m pip install numpy pandas matplotlib folium datetime"
   ]
  },
  {
   "cell_type": "markdown",
   "metadata": {},
   "source": [
    "### Librairies"
   ]
  },
  {
   "cell_type": "code",
   "execution_count": 2,
   "metadata": {},
   "outputs": [],
   "source": [
    "import numpy as np\n",
    "import pandas as pd\n",
    "pd.options.mode.chained_assignment = None  # default='warn'\n",
    "import matplotlib.pyplot as plt\n",
    "import matplotlib.dates as mdates\n",
    "from matplotlib import patches\n",
    "import folium\n",
    "import folium.plugins\n",
    "import datetime"
   ]
  },
  {
   "cell_type": "markdown",
   "metadata": {},
   "source": [
    "# 1 - Préparation des fichiers\n",
    "-----------------------------------------------------------------------------\n",
    "----------\n"
   ]
  },
  {
   "cell_type": "markdown",
   "metadata": {},
   "source": [
    "## Lecture /assemblage du/des fichiers CSV"
   ]
  },
  {
   "cell_type": "markdown",
   "metadata": {},
   "source": [
    "On récupére le fichier CSV sur la carte SD, et on l'ouvre ici avec pandas. On affiche l'entête du fichier et les premières lignes."
   ]
  },
  {
   "cell_type": "code",
   "execution_count": 17,
   "metadata": {},
   "outputs": [],
   "source": [
    "data = pd.read_csv(r'C:\\Users\\kamel\\Desktop\\IMT Atlantique\\A2\\Commande Entreprise\\combine3.csv', delimiter=';')"
   ]
  },
  {
   "cell_type": "code",
   "execution_count": 18,
   "metadata": {},
   "outputs": [
    {
     "data": {
      "text/html": [
       "<div>\n",
       "<style scoped>\n",
       "    .dataframe tbody tr th:only-of-type {\n",
       "        vertical-align: middle;\n",
       "    }\n",
       "\n",
       "    .dataframe tbody tr th {\n",
       "        vertical-align: top;\n",
       "    }\n",
       "\n",
       "    .dataframe thead th {\n",
       "        text-align: right;\n",
       "    }\n",
       "</style>\n",
       "<table border=\"1\" class=\"dataframe\">\n",
       "  <thead>\n",
       "    <tr style=\"text-align: right;\">\n",
       "      <th></th>\n",
       "      <th>Lat</th>\n",
       "      <th>Lng</th>\n",
       "      <th>Date</th>\n",
       "      <th>Time</th>\n",
       "      <th>Bat %</th>\n",
       "      <th>Bat mV</th>\n",
       "      <th>Pression_ext(hpa)</th>\n",
       "      <th>Temp_ext(C)</th>\n",
       "      <th>Temp_int(C)</th>\n",
       "      <th>Temp_sea(C)</th>\n",
       "      <th>EC_sea</th>\n",
       "      <th>Temp_sea(C) .1</th>\n",
       "      <th>EC_sea .1</th>\n",
       "      <th>Temp_sea(C) .2</th>\n",
       "      <th>EC_sea .2</th>\n",
       "    </tr>\n",
       "  </thead>\n",
       "  <tbody>\n",
       "    <tr>\n",
       "      <th>0</th>\n",
       "      <td>64.151687</td>\n",
       "      <td>-21.932544</td>\n",
       "      <td>21/08/03</td>\n",
       "      <td>09:15:14</td>\n",
       "      <td>100</td>\n",
       "      <td>4097</td>\n",
       "      <td>1005.509</td>\n",
       "      <td>12.45</td>\n",
       "      <td>12.250</td>\n",
       "      <td>-1023</td>\n",
       "      <td>39830</td>\n",
       "      <td>13.51</td>\n",
       "      <td>39840</td>\n",
       "      <td>13.52</td>\n",
       "      <td>39870</td>\n",
       "    </tr>\n",
       "    <tr>\n",
       "      <th>1</th>\n",
       "      <td>64.151752</td>\n",
       "      <td>-21.932455</td>\n",
       "      <td>21/08/03</td>\n",
       "      <td>09:25:49</td>\n",
       "      <td>100</td>\n",
       "      <td>4095</td>\n",
       "      <td>1005.621</td>\n",
       "      <td>12.60</td>\n",
       "      <td>12.438</td>\n",
       "      <td>13.528</td>\n",
       "      <td>39850</td>\n",
       "      <td>13.541</td>\n",
       "      <td>39850</td>\n",
       "      <td>13.547</td>\n",
       "      <td>39880</td>\n",
       "    </tr>\n",
       "    <tr>\n",
       "      <th>2</th>\n",
       "      <td>64.151746</td>\n",
       "      <td>-21.932064</td>\n",
       "      <td>21/08/03</td>\n",
       "      <td>09:35:59</td>\n",
       "      <td>100</td>\n",
       "      <td>4097</td>\n",
       "      <td>1005.574</td>\n",
       "      <td>12.72</td>\n",
       "      <td>12.500</td>\n",
       "      <td>13.553</td>\n",
       "      <td>39900</td>\n",
       "      <td>13.558</td>\n",
       "      <td>39920</td>\n",
       "      <td>13.561</td>\n",
       "      <td>39950</td>\n",
       "    </tr>\n",
       "    <tr>\n",
       "      <th>3</th>\n",
       "      <td>64.151808</td>\n",
       "      <td>-21.932357</td>\n",
       "      <td>21/08/03</td>\n",
       "      <td>09:46:08</td>\n",
       "      <td>100</td>\n",
       "      <td>4104</td>\n",
       "      <td>1005.609</td>\n",
       "      <td>12.73</td>\n",
       "      <td>12.562</td>\n",
       "      <td>13.573</td>\n",
       "      <td>39960</td>\n",
       "      <td>13.581</td>\n",
       "      <td>39980</td>\n",
       "      <td>13.589</td>\n",
       "      <td>40020</td>\n",
       "    </tr>\n",
       "    <tr>\n",
       "      <th>4</th>\n",
       "      <td>64.152692</td>\n",
       "      <td>-21.930707</td>\n",
       "      <td>21/08/03</td>\n",
       "      <td>09:56:17</td>\n",
       "      <td>100</td>\n",
       "      <td>4100</td>\n",
       "      <td>1005.599</td>\n",
       "      <td>-136.72</td>\n",
       "      <td>12.688</td>\n",
       "      <td>13.588</td>\n",
       "      <td>39890</td>\n",
       "      <td>13.598</td>\n",
       "      <td>39860</td>\n",
       "      <td>13.582</td>\n",
       "      <td>39920</td>\n",
       "    </tr>\n",
       "  </tbody>\n",
       "</table>\n",
       "</div>"
      ],
      "text/plain": [
       "        Lat        Lng        Date        Time    Bat %    Bat mV   \\\n",
       "0  64.151687 -21.932544   21/08/03    09:15:14       100      4097   \n",
       "1  64.151752 -21.932455   21/08/03    09:25:49       100      4095   \n",
       "2  64.151746 -21.932064   21/08/03    09:35:59       100      4097   \n",
       "3  64.151808 -21.932357   21/08/03    09:46:08       100      4104   \n",
       "4  64.152692 -21.930707   21/08/03    09:56:17       100      4100   \n",
       "\n",
       "    Pression_ext(hpa)    Temp_ext(C)    Temp_int(C)   Temp_sea(C)   EC_sea   \\\n",
       "0             1005.509          12.45         12.250         -1023    39830   \n",
       "1             1005.621          12.60         12.438        13.528    39850   \n",
       "2             1005.574          12.72         12.500        13.553    39900   \n",
       "3             1005.609          12.73         12.562        13.573    39960   \n",
       "4             1005.599        -136.72         12.688        13.588    39890   \n",
       "\n",
       "   Temp_sea(C) .1  EC_sea .1  Temp_sea(C) .2  EC_sea .2  \n",
       "0           13.51      39840           13.52      39870  \n",
       "1          13.541      39850          13.547      39880  \n",
       "2          13.558      39920          13.561      39950  \n",
       "3          13.581      39980          13.589      40020  \n",
       "4          13.598      39860          13.582      39920  "
      ]
     },
     "execution_count": 18,
     "metadata": {},
     "output_type": "execute_result"
    }
   ],
   "source": [
    "data.head()"
   ]
  },
  {
   "cell_type": "code",
   "execution_count": 19,
   "metadata": {},
   "outputs": [
    {
     "name": "stdout",
     "output_type": "stream",
     "text": [
      "Nombre de ligne :  5365\n"
     ]
    }
   ],
   "source": [
    "print(\"Nombre de ligne : \", len(data))"
   ]
  },
  {
   "cell_type": "markdown",
   "metadata": {},
   "source": [
    "## Filtrage des données"
   ]
  },
  {
   "cell_type": "markdown",
   "metadata": {},
   "source": [
    "### Dates/heure : Identification et suppression des dates érronnées"
   ]
  },
  {
   "cell_type": "code",
   "execution_count": 20,
   "metadata": {},
   "outputs": [],
   "source": [
    "# définition des fonction d'identification des mauvais format de  dates\n",
    "error_index=[]\n",
    "\n",
    "def val_date(date_text):\n",
    "    try:\n",
    "        datetime.datetime.strptime(date_text, ' %y/%m/%d ')\n",
    "    except :\n",
    "        print(\"Incorrect data format, should be YY/MM/DD : row =\", i) \n",
    "        if i not in error_index :\n",
    "            error_index.append(i)\n",
    "\n",
    "def val_time(time_text):\n",
    "    try:\n",
    "        datetime.datetime.strptime(time_text, ' %H:%M:%S ')\n",
    "    except :\n",
    "        print(\"Incorrect data format, should be HH:MM:SS : row =\", i)\n",
    "        if i not in error_index :\n",
    "            error_index.append(i)"
   ]
  },
  {
   "cell_type": "code",
   "execution_count": 21,
   "metadata": {},
   "outputs": [
    {
     "name": "stdout",
     "output_type": "stream",
     "text": [
      "Incorrect data format, should be HH:MM:SS : row = 274\n",
      "Incorrect data format, should be HH:MM:SS : row = 462\n",
      "Incorrect data format, should be HH:MM:SS : row = 474\n",
      "Incorrect data format, should be YY/MM/DD : row = 685\n",
      "Incorrect data format, should be YY/MM/DD : row = 690\n",
      "Incorrect data format, should be HH:MM:SS : row = 720\n",
      "Incorrect data format, should be YY/MM/DD : row = 799\n",
      "Incorrect data format, should be YY/MM/DD : row = 801\n",
      "Incorrect data format, should be HH:MM:SS : row = 1076\n",
      "Incorrect data format, should be HH:MM:SS : row = 1561\n",
      "Incorrect data format, should be HH:MM:SS : row = 1570\n",
      "Incorrect data format, should be HH:MM:SS : row = 1792\n",
      "Incorrect data format, should be HH:MM:SS : row = 1805\n",
      "Incorrect data format, should be HH:MM:SS : row = 1910\n",
      "Incorrect data format, should be HH:MM:SS : row = 1994\n",
      "Incorrect data format, should be HH:MM:SS : row = 2002\n",
      "Incorrect data format, should be HH:MM:SS : row = 2161\n",
      "Incorrect data format, should be HH:MM:SS : row = 2182\n",
      "Incorrect data format, should be YY/MM/DD : row = 2333\n",
      "Incorrect data format, should be HH:MM:SS : row = 2575\n",
      "Incorrect data format, should be YY/MM/DD : row = 3540\n",
      "Incorrect data format, should be HH:MM:SS : row = 3556\n",
      "Incorrect data format, should be YY/MM/DD : row = 3561\n",
      "Incorrect data format, should be YY/MM/DD : row = 3658\n",
      "Incorrect data format, should be HH:MM:SS : row = 3810\n",
      "Incorrect data format, should be YY/MM/DD : row = 3814\n",
      "Incorrect data format, should be YY/MM/DD : row = 3829\n",
      "Incorrect data format, should be HH:MM:SS : row = 3841\n",
      "Incorrect data format, should be HH:MM:SS : row = 3842\n",
      "Incorrect data format, should be YY/MM/DD : row = 3843\n",
      "Incorrect data format, should be YY/MM/DD : row = 3844\n",
      "Incorrect data format, should be HH:MM:SS : row = 3860\n",
      "Incorrect data format, should be YY/MM/DD : row = 3967\n",
      "Incorrect data format, should be HH:MM:SS : row = 3980\n",
      "Incorrect data format, should be HH:MM:SS : row = 4001\n",
      "Incorrect data format, should be YY/MM/DD : row = 4095\n",
      "Incorrect data format, should be YY/MM/DD : row = 4096\n",
      "Incorrect data format, should be YY/MM/DD : row = 4101\n",
      "Incorrect data format, should be YY/MM/DD : row = 4102\n",
      "Incorrect data format, should be YY/MM/DD : row = 4103\n",
      "Incorrect data format, should be YY/MM/DD : row = 4104\n",
      "Incorrect data format, should be YY/MM/DD : row = 4111\n",
      "Incorrect data format, should be YY/MM/DD : row = 4112\n",
      "Incorrect data format, should be YY/MM/DD : row = 4119\n",
      "Incorrect data format, should be YY/MM/DD : row = 4120\n",
      "Incorrect data format, should be YY/MM/DD : row = 4678\n",
      "Incorrect data format, should be HH:MM:SS : row = 4697\n",
      "Incorrect data format, should be YY/MM/DD : row = 5085\n",
      "Incorrect data format, should be HH:MM:SS : row = 5089\n",
      "Incorrect data format, should be HH:MM:SS : row = 5092\n",
      "Incorrect data format, should be HH:MM:SS : row = 5253\n",
      "Incorrect data format, should be YY/MM/DD : row = 5254\n",
      "Incorrect data format, should be YY/MM/DD : row = 5262\n",
      "Incorrect data format, should be HH:MM:SS : row = 5332\n",
      "Incorrect data format, should be HH:MM:SS : row = 5335\n",
      "Incorrect data format, should be YY/MM/DD : row = 5357\n",
      "Error Index :  [274, 462, 474, 685, 690, 720, 799, 801, 1076, 1561, 1570, 1792, 1805, 1910, 1994, 2002, 2161, 2182, 2333, 2575, 3540, 3556, 3561, 3658, 3810, 3814, 3829, 3841, 3842, 3843, 3844, 3860, 3967, 3980, 4001, 4095, 4096, 4101, 4102, 4103, 4104, 4111, 4112, 4119, 4120, 4678, 4697, 5085, 5089, 5092, 5253, 5254, 5262, 5332, 5335, 5357]\n",
      "Nombre de date erroné = 56\n",
      "Pourcentage de perte =  1.0438024231127678 %\n"
     ]
    }
   ],
   "source": [
    "# identification des erreurs et création d'une liste d'index de lignes erronés\n",
    "for i in range(len(data)):\n",
    "    val_date(data.loc[i][' Date '])\n",
    "    val_time(data.loc[i][' Time '])\n",
    "    \n",
    "error_index.sort()\n",
    "print('Error Index : ', error_index)\n",
    "print('Nombre de date erroné =',len(error_index))\n",
    "print('Pourcentage de perte = ', len(error_index)*100/len(data),\"%\")\n",
    "\n",
    "\n"
   ]
  },
  {
   "cell_type": "code",
   "execution_count": 22,
   "metadata": {},
   "outputs": [
    {
     "name": "stdout",
     "output_type": "stream",
     "text": [
      "Nombre de ligne restante :  5309\n"
     ]
    }
   ],
   "source": [
    "# suppression des lignes erronés dans le data frame\n",
    "for i in range(len(data)):\n",
    "    if i in error_index :\n",
    "        data = data.drop(i)\n",
    "        \n",
    "print(\"Nombre de ligne restante : \", len(data))"
   ]
  },
  {
   "cell_type": "markdown",
   "metadata": {},
   "source": [
    "Pour les mesures T & S de la mer. Les valeurs qui ne respectent pas les conditions suivantes seront supprimées :\n",
    "- Absence de valeurs\n",
    "- Valeur nulles\n",
    "- Autre valeur non numériques\n",
    "- Valeurs de température = -1023 \n",
    "- Température non comprise dans l'intervalle [-20; 100]°C \n",
    "- Salinité non comprise dans l'intervalle [10; 80]\n",
    "Le filtrage doit s'opérer sur  toutes les colonnes de température et salinité. Le filtrage consitera à supprimer la lignes correspondantes\n",
    "\n",
    "Filtrage des valeurs de température interne ou externe ou pression :\n",
    "- Les valeurs non numérique en température et en pression\n",
    "- Les valeurs de température en dehors de l'intervalle [-150;+150]°C\n",
    "- les valeurs de pression en dehors de l'intervalle [700; 2000] hpa"
   ]
  },
  {
   "cell_type": "markdown",
   "metadata": {},
   "source": [
    "### Suppression des lignes ne présentant aucune valeur"
   ]
  },
  {
   "cell_type": "code",
   "execution_count": 23,
   "metadata": {},
   "outputs": [
    {
     "name": "stdout",
     "output_type": "stream",
     "text": [
      "<class 'pandas.core.frame.DataFrame'>\n",
      "Index: 5309 entries, 0 to 5364\n",
      "Data columns (total 15 columns):\n",
      " #   Column               Non-Null Count  Dtype  \n",
      "---  ------               --------------  -----  \n",
      " 0   Lat                  5309 non-null   float64\n",
      " 1    Lng                 5309 non-null   float64\n",
      " 2    Date                5309 non-null   object \n",
      " 3    Time                5309 non-null   object \n",
      " 4    Bat %               5309 non-null   int64  \n",
      " 5    Bat mV              5309 non-null   int64  \n",
      " 6    Pression_ext(hpa)   5309 non-null   float64\n",
      " 7    Temp_ext(C)         5309 non-null   float64\n",
      " 8    Temp_int(C)         5309 non-null   float64\n",
      " 9    Temp_sea(C)         5309 non-null   object \n",
      " 10   EC_sea              5309 non-null   object \n",
      " 11   Temp_sea(C) .1      5309 non-null   object \n",
      " 12   EC_sea .1           5309 non-null   object \n",
      " 13   Temp_sea(C) .2      5309 non-null   object \n",
      " 14   EC_sea .2           5309 non-null   object \n",
      "dtypes: float64(5), int64(2), object(8)\n",
      "memory usage: 663.6+ KB\n"
     ]
    }
   ],
   "source": [
    "data.dropna(inplace=True)\n",
    "data.info()"
   ]
  },
  {
   "cell_type": "markdown",
   "metadata": {},
   "source": [
    "### Suppression des duplications"
   ]
  },
  {
   "cell_type": "code",
   "execution_count": 24,
   "metadata": {},
   "outputs": [
    {
     "name": "stdout",
     "output_type": "stream",
     "text": [
      "<class 'pandas.core.frame.DataFrame'>\n",
      "Index: 5309 entries, 0 to 5364\n",
      "Data columns (total 15 columns):\n",
      " #   Column               Non-Null Count  Dtype  \n",
      "---  ------               --------------  -----  \n",
      " 0   Lat                  5309 non-null   float64\n",
      " 1    Lng                 5309 non-null   float64\n",
      " 2    Date                5309 non-null   object \n",
      " 3    Time                5309 non-null   object \n",
      " 4    Bat %               5309 non-null   int64  \n",
      " 5    Bat mV              5309 non-null   int64  \n",
      " 6    Pression_ext(hpa)   5309 non-null   float64\n",
      " 7    Temp_ext(C)         5309 non-null   float64\n",
      " 8    Temp_int(C)         5309 non-null   float64\n",
      " 9    Temp_sea(C)         5309 non-null   object \n",
      " 10   EC_sea              5309 non-null   object \n",
      " 11   Temp_sea(C) .1      5309 non-null   object \n",
      " 12   EC_sea .1           5309 non-null   object \n",
      " 13   Temp_sea(C) .2      5309 non-null   object \n",
      " 14   EC_sea .2           5309 non-null   object \n",
      "dtypes: float64(5), int64(2), object(8)\n",
      "memory usage: 663.6+ KB\n"
     ]
    }
   ],
   "source": [
    "data.drop_duplicates(inplace = True)\n",
    "data.info()"
   ]
  },
  {
   "cell_type": "markdown",
   "metadata": {},
   "source": [
    "Changement des types des colonnes 'str' en 'float' et suppression des lignes avec des chaines de caractères vides"
   ]
  },
  {
   "cell_type": "code",
   "execution_count": 25,
   "metadata": {},
   "outputs": [],
   "source": [
    "data[' Temp_sea(C) '] = pd.to_numeric(data[' Temp_sea(C) '],errors='coerce')\n",
    "data[' Temp_sea(C) .1'] = pd.to_numeric(data[' Temp_sea(C) .1'],errors='coerce')\n",
    "data[' Temp_sea(C) .2'] = pd.to_numeric(data[' Temp_sea(C) .2'],errors='coerce')\n",
    "data[' EC_sea '] = pd.to_numeric(data[' EC_sea '],errors='coerce')\n",
    "data[' EC_sea .1'] = pd.to_numeric(data[' EC_sea .1'],errors='coerce')\n",
    "data[' EC_sea .2'] = pd.to_numeric(data[' EC_sea .2'],errors='coerce')"
   ]
  },
  {
   "cell_type": "code",
   "execution_count": 26,
   "metadata": {},
   "outputs": [
    {
     "name": "stdout",
     "output_type": "stream",
     "text": [
      "<class 'pandas.core.frame.DataFrame'>\n",
      "Index: 5304 entries, 0 to 5308\n",
      "Data columns (total 15 columns):\n",
      " #   Column               Non-Null Count  Dtype  \n",
      "---  ------               --------------  -----  \n",
      " 0   Lat                  5304 non-null   float64\n",
      " 1    Lng                 5304 non-null   float64\n",
      " 2    Date                5304 non-null   object \n",
      " 3    Time                5304 non-null   object \n",
      " 4    Bat %               5304 non-null   int64  \n",
      " 5    Bat mV              5304 non-null   int64  \n",
      " 6    Pression_ext(hpa)   5304 non-null   float64\n",
      " 7    Temp_ext(C)         5304 non-null   float64\n",
      " 8    Temp_int(C)         5304 non-null   float64\n",
      " 9    Temp_sea(C)         5304 non-null   float64\n",
      " 10   EC_sea              5304 non-null   float64\n",
      " 11   Temp_sea(C) .1      5304 non-null   float64\n",
      " 12   EC_sea .1           5304 non-null   float64\n",
      " 13   Temp_sea(C) .2      5304 non-null   float64\n",
      " 14   EC_sea .2           5304 non-null   float64\n",
      "dtypes: float64(11), int64(2), object(2)\n",
      "memory usage: 663.0+ KB\n"
     ]
    }
   ],
   "source": [
    "data.reset_index(inplace=True, drop=True)\n",
    "\n",
    "data.dropna(inplace=True)\n",
    "data.info()"
   ]
  },
  {
   "cell_type": "markdown",
   "metadata": {},
   "source": [
    "### Filtrage des températures"
   ]
  },
  {
   "cell_type": "markdown",
   "metadata": {},
   "source": [
    "Filtrage de Température de la mer"
   ]
  },
  {
   "cell_type": "code",
   "execution_count": 27,
   "metadata": {},
   "outputs": [
    {
     "name": "stdout",
     "output_type": "stream",
     "text": [
      "<class 'pandas.core.frame.DataFrame'>\n",
      "Index: 5301 entries, 1 to 5303\n",
      "Data columns (total 15 columns):\n",
      " #   Column               Non-Null Count  Dtype  \n",
      "---  ------               --------------  -----  \n",
      " 0   Lat                  5301 non-null   float64\n",
      " 1    Lng                 5301 non-null   float64\n",
      " 2    Date                5301 non-null   object \n",
      " 3    Time                5301 non-null   object \n",
      " 4    Bat %               5301 non-null   int64  \n",
      " 5    Bat mV              5301 non-null   int64  \n",
      " 6    Pression_ext(hpa)   5301 non-null   float64\n",
      " 7    Temp_ext(C)         5301 non-null   float64\n",
      " 8    Temp_int(C)         5301 non-null   float64\n",
      " 9    Temp_sea(C)         5301 non-null   float64\n",
      " 10   EC_sea              5301 non-null   float64\n",
      " 11   Temp_sea(C) .1      5301 non-null   float64\n",
      " 12   EC_sea .1           5301 non-null   float64\n",
      " 13   Temp_sea(C) .2      5301 non-null   float64\n",
      " 14   EC_sea .2           5301 non-null   float64\n",
      "dtypes: float64(11), int64(2), object(2)\n",
      "memory usage: 662.6+ KB\n"
     ]
    }
   ],
   "source": [
    "data.reset_index(inplace=True, drop=True)\n",
    "\n",
    "\n",
    "data = data[data[' Temp_sea(C) '].between(-20, 100)]\n",
    "data = data[data[' Temp_sea(C) .1'].between(-20, 100)]\n",
    "data = data[data[' Temp_sea(C) .2'].between(-20, 100)]\n",
    "data = data[data[' Temp_sea(C) .2'].between(-20, 100)]\n",
    "\n",
    "\n",
    "    \n",
    "\n",
    "data.info()"
   ]
  },
  {
   "cell_type": "markdown",
   "metadata": {},
   "source": [
    "Filtrage des températures internes et externes"
   ]
  },
  {
   "cell_type": "code",
   "execution_count": 28,
   "metadata": {},
   "outputs": [
    {
     "name": "stdout",
     "output_type": "stream",
     "text": [
      "<class 'pandas.core.frame.DataFrame'>\n",
      "RangeIndex: 5301 entries, 0 to 5300\n",
      "Data columns (total 15 columns):\n",
      " #   Column               Non-Null Count  Dtype  \n",
      "---  ------               --------------  -----  \n",
      " 0   Lat                  5301 non-null   float64\n",
      " 1    Lng                 5301 non-null   float64\n",
      " 2    Date                5301 non-null   object \n",
      " 3    Time                5301 non-null   object \n",
      " 4    Bat %               5301 non-null   int64  \n",
      " 5    Bat mV              5301 non-null   int64  \n",
      " 6    Pression_ext(hpa)   5301 non-null   float64\n",
      " 7    Temp_ext(C)         5301 non-null   float64\n",
      " 8    Temp_int(C)         5301 non-null   float64\n",
      " 9    Temp_sea(C)         5301 non-null   float64\n",
      " 10   EC_sea              5301 non-null   float64\n",
      " 11   Temp_sea(C) .1      5301 non-null   float64\n",
      " 12   EC_sea .1           5301 non-null   float64\n",
      " 13   Temp_sea(C) .2      5301 non-null   float64\n",
      " 14   EC_sea .2           5301 non-null   float64\n",
      "dtypes: float64(11), int64(2), object(2)\n",
      "memory usage: 621.3+ KB\n"
     ]
    }
   ],
   "source": [
    "data.reset_index(inplace=True, drop=True)\n",
    "\n",
    "\n",
    "data = data[data[' Temp_int(C) '].between(-150, 150)]\n",
    "data = data[data[' Temp_ext(C) '].between(-150, 150)]\n",
    "data = data[data[' Pression_ext(hpa) '].between(70, 2000)]\n",
    "\n",
    "data.info()"
   ]
  },
  {
   "cell_type": "markdown",
   "metadata": {},
   "source": [
    "### Coordonnées : Filtrage des coordonnées\n",
    "Pour les coordonnées qui sont nulles, il s'agit de moments où le GPS ne capte plus de satellite, on ne souhaite pas éliminer les données mais extrapoler la position à partir des données où les GPS catpe les satellites.\n"
   ]
  },
  {
   "cell_type": "markdown",
   "metadata": {},
   "source": [
    "Pour la longitude"
   ]
  },
  {
   "cell_type": "code",
   "execution_count": 29,
   "metadata": {},
   "outputs": [
    {
     "name": "stdout",
     "output_type": "stream",
     "text": [
      "[767, 1334, 1511, 1655, 1686, 1687, 1688, 1689, 1690, 1691, 1766, 2022, 2027, 2029, 2030, 2031, 2032, 2033, 2040, 2051, 2066, 2067, 2068, 2073, 2106, 2324, 2341, 2736, 3066, 3085, 3099, 3109, 3122, 3135, 3136, 3152, 3170, 3172, 3212, 3272, 3273, 3274, 3278, 3294, 3310, 3325, 3349, 3397]\n"
     ]
    }
   ],
   "source": [
    "data.reset_index(inplace=True, drop=True)\n",
    "\n",
    "lng_nulles = []\n",
    "for j in range(len(data)):\n",
    "    if data[' Lng '][j] == 0:\n",
    "        lng_nulles.append(j)\n",
    "\n",
    "print(lng_nulles)\n",
    "\n",
    "# on traite les cas particuliers de la première et de la dernière donnée en partant du principe que la 2e donnée et l'avant dernière ne sont pas nulles\n",
    "if data[' Lng '][0] == 0:\n",
    "    data[' Lng '][0] = data[' Lng '][1]\n",
    "if data[' Lng '][len(data)-1] == 0:\n",
    "    data[' Lng '][len(data)-1] = data[' Lng '][len(data)-2]\n",
    "\n",
    "# cas général\n",
    "for i in range(1, len(data)-1,1):\n",
    "    if data[' Lng '][i] == 0:\n",
    "        if data[' Lng '][i+1]==0:\n",
    "            data[' Lng '][i] = data[' Lng '][i-1]+ (data[' Lng '][i-1]-data[' Lng '][i-2])  ## traitement du cas ou il y a un enchainement de valeurs nulles\n",
    "        else:\n",
    "            data[' Lng '][i] = (data[' Lng '][i-1]+data[' Lng '][i+1])/2\n"
   ]
  },
  {
   "cell_type": "markdown",
   "metadata": {},
   "source": [
    "Pour la latitude"
   ]
  },
  {
   "cell_type": "code",
   "execution_count": 30,
   "metadata": {},
   "outputs": [
    {
     "name": "stdout",
     "output_type": "stream",
     "text": [
      "[767, 1334, 1511, 1655, 1686, 1687, 1688, 1689, 1690, 1691, 1766, 2022, 2027, 2029, 2030, 2031, 2032, 2033, 2040, 2051, 2066, 2067, 2068, 2073, 2106, 2324, 2341, 2736, 3066, 3085, 3099, 3109, 3122, 3135, 3136, 3152, 3170, 3172, 3212, 3272, 3273, 3274, 3278, 3294, 3310, 3325, 3349, 3397]\n"
     ]
    }
   ],
   "source": [
    "data.reset_index(inplace=True, drop=True)\n",
    "\n",
    "lat_nulles = []\n",
    "for j in range(len(data)):\n",
    "    if data['Lat '][j] == 0:\n",
    "        lat_nulles.append(j)\n",
    "\n",
    "print(lat_nulles)\n",
    "\n",
    "# on traite les cas particuliers de la première et de la dernière donnée\n",
    "if data['Lat '][0] == 0:\n",
    "    data['Lat '][0] = data['Lat '][1]\n",
    "if data['Lat '][len(data)-1] == 0:\n",
    "    data['Lat '][len(data)-1] = data['Lat '][len(data)-2]\n",
    "\n",
    "# cas général\n",
    "for i in range(1, len(data)-1,1):\n",
    "    if data['Lat '][i] == 0:\n",
    "        if data['Lat '][i+1]==0:\n",
    "            data['Lat '][i] = data['Lat '][i-1]+ (data['Lat '][i-1]-data['Lat '][i-2])  ## traitement du cas ou il y a un enchainement de valeurs nulles\n",
    "        else:\n",
    "            data['Lat '][i] = (data['Lat '][i-1]+data['Lat '][i+1])/2"
   ]
  },
  {
   "cell_type": "markdown",
   "metadata": {},
   "source": [
    "## Calcul des moyennes et de la salinité"
   ]
  },
  {
   "cell_type": "markdown",
   "metadata": {},
   "source": [
    "L'instrument SensOcean enregistre plusieurs fois les valeurs de temperature et conductivité de la mer, on doit en faire les moyennes et ensuite calculer la salinité. "
   ]
  },
  {
   "cell_type": "code",
   "execution_count": 31,
   "metadata": {},
   "outputs": [],
   "source": [
    "# calcul des moyennes des températures et de EC\n",
    "temp_mean=(data[' Temp_sea(C) ']+data[' Temp_sea(C) .1']+data[' Temp_sea(C) .2'])/3\n",
    "ec_mean=(data[' EC_sea ']+data[' EC_sea .1']+data[' EC_sea .2'])/3\n",
    "\n",
    "# calcul de la salinité\n",
    "A = [0.0080, -0.1692, 25.3851, 14.0941, -7.0261, 2.7081]\n",
    "B = [0.0005, -0.0056, -0.0066, -0.0375, 0.0636, -0.0144]\n",
    "C = [0.6766097, 0.0200564, 0.000110426, -6.9698E-07, 1.0031E-09]\n",
    "K = 0.0162\n",
    "\n",
    "def salinity_calculator(temperature, conductivity):\n",
    "    R_p = 1. # pour les mesures à faible profondeur\n",
    "    r_t = sum(\n",
    "        [C[i] * temperature**i for i in range(5)]\n",
    "    )\n",
    "    R_t = conductivity / (42.914 * r_t)\n",
    "\n",
    "    return (\n",
    "        sum([A[i] * R_t**(int(i)/2.) for i in range(6)])\n",
    "        + (\n",
    "            ((temperature - 15)/(1 + K * (temperature - 15)))\n",
    "            * (sum([B[i] * R_t**(int(i)/2.) for i in range(6)]))\n",
    "        )\n",
    "    )\n",
    "\n",
    "sal_mean=salinity_calculator(temp_mean, ec_mean/1000)"
   ]
  },
  {
   "cell_type": "markdown",
   "metadata": {},
   "source": [
    "Création de la colonne so_datetime, utile pour la visualisation des données"
   ]
  },
  {
   "cell_type": "code",
   "execution_count": 32,
   "metadata": {},
   "outputs": [
    {
     "name": "stdout",
     "output_type": "stream",
     "text": [
      "0      2021-08-03 09:25:49\n",
      "1      2021-08-03 09:35:59\n",
      "2      2021-08-03 09:46:08\n",
      "3      2021-08-03 09:56:17\n",
      "4      2021-08-03 10:06:28\n",
      "               ...        \n",
      "5296   2021-09-17 11:20:45\n",
      "5297   2021-09-17 11:31:00\n",
      "5298   2021-09-17 11:41:35\n",
      "5299   2021-09-17 11:51:46\n",
      "5300   2021-09-17 12:01:57\n",
      "Length: 5301, dtype: datetime64[ns]\n"
     ]
    }
   ],
   "source": [
    "# merge time and date \n",
    "so_datetime=pd.to_datetime(data[' Date ']+data[' Time '],format=' %y/%m/%d  %H:%M:%S ')\n",
    "print(so_datetime)"
   ]
  },
  {
   "cell_type": "markdown",
   "metadata": {},
   "source": [
    "## Création d'un nouveau fichier CSV traité et trié"
   ]
  },
  {
   "cell_type": "markdown",
   "metadata": {},
   "source": [
    "Création des colonnes et ajout de ces dernières dans le csv existant"
   ]
  },
  {
   "cell_type": "code",
   "execution_count": 33,
   "metadata": {},
   "outputs": [],
   "source": [
    "#ajout des colonnes calculer dans le csv\n",
    "Temp_mean=temp_mean\n",
    "Ec_mean=ec_mean\n",
    "Salinite=sal_mean\n",
    "\n",
    "data['so_datetime']=so_datetime\n",
    "data['Temp_mean']=Temp_mean\n",
    "data['Ec_mean']=Ec_mean\n",
    "data['Salinite']=Salinite"
   ]
  },
  {
   "cell_type": "code",
   "execution_count": 34,
   "metadata": {},
   "outputs": [
    {
     "data": {
      "text/html": [
       "<div>\n",
       "<style scoped>\n",
       "    .dataframe tbody tr th:only-of-type {\n",
       "        vertical-align: middle;\n",
       "    }\n",
       "\n",
       "    .dataframe tbody tr th {\n",
       "        vertical-align: top;\n",
       "    }\n",
       "\n",
       "    .dataframe thead th {\n",
       "        text-align: right;\n",
       "    }\n",
       "</style>\n",
       "<table border=\"1\" class=\"dataframe\">\n",
       "  <thead>\n",
       "    <tr style=\"text-align: right;\">\n",
       "      <th></th>\n",
       "      <th>Lat</th>\n",
       "      <th>Lng</th>\n",
       "      <th>Date</th>\n",
       "      <th>Time</th>\n",
       "      <th>Bat %</th>\n",
       "      <th>Bat mV</th>\n",
       "      <th>Pression_ext(hpa)</th>\n",
       "      <th>Temp_ext(C)</th>\n",
       "      <th>Temp_int(C)</th>\n",
       "      <th>Temp_sea(C)</th>\n",
       "      <th>EC_sea</th>\n",
       "      <th>Temp_sea(C) .1</th>\n",
       "      <th>EC_sea .1</th>\n",
       "      <th>Temp_sea(C) .2</th>\n",
       "      <th>EC_sea .2</th>\n",
       "      <th>so_datetime</th>\n",
       "      <th>Temp_mean</th>\n",
       "      <th>Ec_mean</th>\n",
       "      <th>Salinite</th>\n",
       "    </tr>\n",
       "  </thead>\n",
       "  <tbody>\n",
       "    <tr>\n",
       "      <th>0</th>\n",
       "      <td>64.151752</td>\n",
       "      <td>-21.932455</td>\n",
       "      <td>21/08/03</td>\n",
       "      <td>09:25:49</td>\n",
       "      <td>100</td>\n",
       "      <td>4095</td>\n",
       "      <td>1005.621</td>\n",
       "      <td>12.60</td>\n",
       "      <td>12.438</td>\n",
       "      <td>13.528</td>\n",
       "      <td>39850.0</td>\n",
       "      <td>13.541</td>\n",
       "      <td>39850.0</td>\n",
       "      <td>13.547</td>\n",
       "      <td>39880.0</td>\n",
       "      <td>2021-08-03 09:25:49</td>\n",
       "      <td>13.538667</td>\n",
       "      <td>39860.000000</td>\n",
       "      <td>33.473053</td>\n",
       "    </tr>\n",
       "    <tr>\n",
       "      <th>1</th>\n",
       "      <td>64.151746</td>\n",
       "      <td>-21.932064</td>\n",
       "      <td>21/08/03</td>\n",
       "      <td>09:35:59</td>\n",
       "      <td>100</td>\n",
       "      <td>4097</td>\n",
       "      <td>1005.574</td>\n",
       "      <td>12.72</td>\n",
       "      <td>12.500</td>\n",
       "      <td>13.553</td>\n",
       "      <td>39900.0</td>\n",
       "      <td>13.558</td>\n",
       "      <td>39920.0</td>\n",
       "      <td>13.561</td>\n",
       "      <td>39950.0</td>\n",
       "      <td>2021-08-03 09:35:59</td>\n",
       "      <td>13.557333</td>\n",
       "      <td>39923.333333</td>\n",
       "      <td>33.515999</td>\n",
       "    </tr>\n",
       "    <tr>\n",
       "      <th>2</th>\n",
       "      <td>64.151808</td>\n",
       "      <td>-21.932357</td>\n",
       "      <td>21/08/03</td>\n",
       "      <td>09:46:08</td>\n",
       "      <td>100</td>\n",
       "      <td>4104</td>\n",
       "      <td>1005.609</td>\n",
       "      <td>12.73</td>\n",
       "      <td>12.562</td>\n",
       "      <td>13.573</td>\n",
       "      <td>39960.0</td>\n",
       "      <td>13.581</td>\n",
       "      <td>39980.0</td>\n",
       "      <td>13.589</td>\n",
       "      <td>40020.0</td>\n",
       "      <td>2021-08-03 09:46:08</td>\n",
       "      <td>13.581000</td>\n",
       "      <td>39986.666667</td>\n",
       "      <td>33.554522</td>\n",
       "    </tr>\n",
       "    <tr>\n",
       "      <th>3</th>\n",
       "      <td>64.152692</td>\n",
       "      <td>-21.930707</td>\n",
       "      <td>21/08/03</td>\n",
       "      <td>09:56:17</td>\n",
       "      <td>100</td>\n",
       "      <td>4100</td>\n",
       "      <td>1005.599</td>\n",
       "      <td>-136.72</td>\n",
       "      <td>12.688</td>\n",
       "      <td>13.588</td>\n",
       "      <td>39890.0</td>\n",
       "      <td>13.598</td>\n",
       "      <td>39860.0</td>\n",
       "      <td>13.582</td>\n",
       "      <td>39920.0</td>\n",
       "      <td>2021-08-03 09:56:17</td>\n",
       "      <td>13.589333</td>\n",
       "      <td>39890.000000</td>\n",
       "      <td>33.456743</td>\n",
       "    </tr>\n",
       "    <tr>\n",
       "      <th>4</th>\n",
       "      <td>64.159010</td>\n",
       "      <td>-21.919484</td>\n",
       "      <td>21/08/03</td>\n",
       "      <td>10:06:28</td>\n",
       "      <td>100</td>\n",
       "      <td>4103</td>\n",
       "      <td>1005.542</td>\n",
       "      <td>12.84</td>\n",
       "      <td>12.813</td>\n",
       "      <td>13.582</td>\n",
       "      <td>39870.0</td>\n",
       "      <td>13.572</td>\n",
       "      <td>39820.0</td>\n",
       "      <td>13.571</td>\n",
       "      <td>39850.0</td>\n",
       "      <td>2021-08-03 10:06:28</td>\n",
       "      <td>13.575000</td>\n",
       "      <td>39846.666667</td>\n",
       "      <td>33.428743</td>\n",
       "    </tr>\n",
       "  </tbody>\n",
       "</table>\n",
       "</div>"
      ],
      "text/plain": [
       "        Lat        Lng        Date        Time    Bat %    Bat mV   \\\n",
       "0  64.151752 -21.932455   21/08/03    09:25:49       100      4095   \n",
       "1  64.151746 -21.932064   21/08/03    09:35:59       100      4097   \n",
       "2  64.151808 -21.932357   21/08/03    09:46:08       100      4104   \n",
       "3  64.152692 -21.930707   21/08/03    09:56:17       100      4100   \n",
       "4  64.159010 -21.919484   21/08/03    10:06:28       100      4103   \n",
       "\n",
       "    Pression_ext(hpa)    Temp_ext(C)    Temp_int(C)    Temp_sea(C)    EC_sea   \\\n",
       "0             1005.621          12.60         12.438         13.528   39850.0   \n",
       "1             1005.574          12.72         12.500         13.553   39900.0   \n",
       "2             1005.609          12.73         12.562         13.573   39960.0   \n",
       "3             1005.599        -136.72         12.688         13.588   39890.0   \n",
       "4             1005.542          12.84         12.813         13.582   39870.0   \n",
       "\n",
       "    Temp_sea(C) .1   EC_sea .1   Temp_sea(C) .2   EC_sea .2  \\\n",
       "0           13.541     39850.0           13.547     39880.0   \n",
       "1           13.558     39920.0           13.561     39950.0   \n",
       "2           13.581     39980.0           13.589     40020.0   \n",
       "3           13.598     39860.0           13.582     39920.0   \n",
       "4           13.572     39820.0           13.571     39850.0   \n",
       "\n",
       "          so_datetime  Temp_mean       Ec_mean   Salinite  \n",
       "0 2021-08-03 09:25:49  13.538667  39860.000000  33.473053  \n",
       "1 2021-08-03 09:35:59  13.557333  39923.333333  33.515999  \n",
       "2 2021-08-03 09:46:08  13.581000  39986.666667  33.554522  \n",
       "3 2021-08-03 09:56:17  13.589333  39890.000000  33.456743  \n",
       "4 2021-08-03 10:06:28  13.575000  39846.666667  33.428743  "
      ]
     },
     "execution_count": 34,
     "metadata": {},
     "output_type": "execute_result"
    }
   ],
   "source": [
    "#voir le  nouveau fichier\n",
    "data.head()"
   ]
  },
  {
   "cell_type": "markdown",
   "metadata": {},
   "source": [
    "Création d'un nouveau fichier"
   ]
  },
  {
   "cell_type": "code",
   "execution_count": 35,
   "metadata": {},
   "outputs": [],
   "source": [
    "# enregistrement dans fichier csv \n",
    "data.to_csv('data_traitees.csv', index=False,  sep = ';')"
   ]
  }
 ],
 "metadata": {
  "kernelspec": {
   "display_name": "Python 3",
   "language": "python",
   "name": "python3"
  },
  "language_info": {
   "codemirror_mode": {
    "name": "ipython",
    "version": 3
   },
   "file_extension": ".py",
   "mimetype": "text/x-python",
   "name": "python",
   "nbconvert_exporter": "python",
   "pygments_lexer": "ipython3",
   "version": "3.10.11"
  },
  "orig_nbformat": 4
 },
 "nbformat": 4,
 "nbformat_minor": 2
}
